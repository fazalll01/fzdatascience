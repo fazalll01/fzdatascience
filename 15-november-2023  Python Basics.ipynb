{
 "cells": [
  {
   "cell_type": "code",
   "execution_count": null,
   "id": "f95e6607-cd3b-4364-9531-c83f1bc9d034",
   "metadata": {},
   "outputs": [],
   "source": [
    "# question 1"
   ]
  },
  {
   "cell_type": "code",
   "execution_count": 18,
   "id": "0db81568-38d3-406b-aacd-ade4a0586eef",
   "metadata": {},
   "outputs": [
    {
     "name": "stdout",
     "output_type": "stream",
     "text": [
      "After swapping:\n",
      "x = 100\n",
      "y = 50\n"
     ]
    }
   ],
   "source": [
    "\n",
    "x = 50\n",
    "y = 100\n",
    "\n",
    "\n",
    "x = x + y\n",
    "y = x - y\n",
    "x = x - y\n",
    "\n",
    "# Print the swapped values\n",
    "print(\"After swapping:\")\n",
    "print(\"x =\", x)\n",
    "print(\"y =\", y)"
   ]
  },
  {
   "cell_type": "code",
   "execution_count": null,
   "id": "ffa5297b-7268-4aaa-b0dd-32c86ece8e2a",
   "metadata": {},
   "outputs": [],
   "source": []
  },
  {
   "cell_type": "code",
   "execution_count": null,
   "id": "6165f0ba-858f-4b08-8240-131404b9af12",
   "metadata": {},
   "outputs": [],
   "source": []
  },
  {
   "cell_type": "code",
   "execution_count": null,
   "id": "ba0d2835-3c18-42f9-918b-b0c047ac03d9",
   "metadata": {},
   "outputs": [],
   "source": [
    "# quetion 3"
   ]
  },
  {
   "cell_type": "code",
   "execution_count": 13,
   "id": "1658cb21-d86e-4320-afc9-3a949502250c",
   "metadata": {},
   "outputs": [
    {
     "name": "stdin",
     "output_type": "stream",
     "text": [
      " 20323\n"
     ]
    }
   ],
   "source": [
    "celsius= float(input())"
   ]
  },
  {
   "cell_type": "code",
   "execution_count": 16,
   "id": "511dc683-b1f8-4996-acf7-92601e55d68e",
   "metadata": {},
   "outputs": [
    {
     "name": "stdout",
     "output_type": "stream",
     "text": [
      "36613.4\n"
     ]
    }
   ],
   "source": [
    "fahrenheit = (celsius*9/5)+32\n",
    "print(fahrenheit)"
   ]
  },
  {
   "cell_type": "code",
   "execution_count": null,
   "id": "916f3c07-7f90-484c-86f8-0d8c8b1ba336",
   "metadata": {},
   "outputs": [],
   "source": []
  },
  {
   "cell_type": "code",
   "execution_count": null,
   "id": "8ff0d1c1-852d-4415-9d1e-c7d3c3fed15f",
   "metadata": {},
   "outputs": [],
   "source": []
  },
  {
   "cell_type": "code",
   "execution_count": null,
   "id": "845b441c-41b4-4f34-9d92-e9e8b8af4a96",
   "metadata": {},
   "outputs": [],
   "source": [
    "# question 2"
   ]
  },
  {
   "cell_type": "code",
   "execution_count": 5,
   "id": "94ce7bd3-4efc-4718-a1cf-6ce9bec4e248",
   "metadata": {},
   "outputs": [
    {
     "name": "stdin",
     "output_type": "stream",
     "text": [
      " 323\n"
     ]
    }
   ],
   "source": [
    "length = int(input())"
   ]
  },
  {
   "cell_type": "code",
   "execution_count": 6,
   "id": "fb71944f-c1a6-43eb-b5e2-7c5da8767fd3",
   "metadata": {},
   "outputs": [
    {
     "name": "stdin",
     "output_type": "stream",
     "text": [
      " 3232\n"
     ]
    }
   ],
   "source": [
    "width = int(input())"
   ]
  },
  {
   "cell_type": "code",
   "execution_count": 7,
   "id": "383e49be-bc2d-4298-8ae9-621a2fddeb64",
   "metadata": {},
   "outputs": [],
   "source": [
    "area = length*width"
   ]
  },
  {
   "cell_type": "code",
   "execution_count": 8,
   "id": "0aed6a47-9ade-4031-a091-b3069be43b46",
   "metadata": {},
   "outputs": [
    {
     "name": "stdout",
     "output_type": "stream",
     "text": [
      "1043936\n"
     ]
    }
   ],
   "source": [
    "print(area)\n"
   ]
  },
  {
   "cell_type": "code",
   "execution_count": null,
   "id": "2ed23036-6d50-4eea-a7fe-d7ad3aa156b4",
   "metadata": {},
   "outputs": [],
   "source": []
  },
  {
   "cell_type": "code",
   "execution_count": null,
   "id": "6616be8c-1734-48a0-9806-2a0ad2650bb6",
   "metadata": {},
   "outputs": [],
   "source": []
  },
  {
   "cell_type": "code",
   "execution_count": null,
   "id": "e1076056-077d-4779-b743-691971a94dc5",
   "metadata": {},
   "outputs": [],
   "source": [
    "# string based questions"
   ]
  },
  {
   "cell_type": "code",
   "execution_count": 19,
   "id": "27d60be6-85ea-4c51-882a-2dd7d7843dc0",
   "metadata": {},
   "outputs": [],
   "source": [
    "# question 1"
   ]
  },
  {
   "cell_type": "code",
   "execution_count": 20,
   "id": "f78437b4-337a-4b98-a083-a9d4939a3cd2",
   "metadata": {},
   "outputs": [
    {
     "name": "stdin",
     "output_type": "stream",
     "text": [
      " 21245\n"
     ]
    },
    {
     "name": "stdout",
     "output_type": "stream",
     "text": [
      "5\n"
     ]
    }
   ],
   "source": [
    "inp = input()\n",
    "print(len(inp))"
   ]
  },
  {
   "cell_type": "code",
   "execution_count": null,
   "id": "c9ff14ba-d8e4-468d-8f03-624cd8b50f2f",
   "metadata": {},
   "outputs": [],
   "source": []
  },
  {
   "cell_type": "code",
   "execution_count": 21,
   "id": "25b7d3da-4112-4fa9-b738-938773deef42",
   "metadata": {},
   "outputs": [],
   "source": [
    "# question 3"
   ]
  },
  {
   "cell_type": "code",
   "execution_count": 22,
   "id": "711fd721-cc0e-4fe7-bf5a-2bc57716e2e4",
   "metadata": {},
   "outputs": [],
   "source": [
    "a = \"this is fazal\"\n"
   ]
  },
  {
   "cell_type": "code",
   "execution_count": 25,
   "id": "f1924bff-67e7-4715-9d52-b664ed6901e6",
   "metadata": {},
   "outputs": [
    {
     "data": {
      "text/plain": [
       "'lazaf si siht'"
      ]
     },
     "execution_count": 25,
     "metadata": {},
     "output_type": "execute_result"
    }
   ],
   "source": [
    "a[::-1]"
   ]
  },
  {
   "cell_type": "code",
   "execution_count": null,
   "id": "95726417-f2fb-4c30-8d68-eaba37822c81",
   "metadata": {},
   "outputs": [],
   "source": []
  },
  {
   "cell_type": "code",
   "execution_count": 26,
   "id": "a3dcda63-4276-4833-bc8e-3f1a890da0f6",
   "metadata": {},
   "outputs": [],
   "source": [
    "# question 5\n"
   ]
  },
  {
   "cell_type": "code",
   "execution_count": 27,
   "id": "378d7a71-5280-4e54-8108-cb245e7e6b37",
   "metadata": {},
   "outputs": [
    {
     "name": "stdin",
     "output_type": "stream",
     "text": [
      "    this   is me   \n"
     ]
    }
   ],
   "source": [
    "ab = input()"
   ]
  },
  {
   "cell_type": "code",
   "execution_count": 29,
   "id": "3b006393-a833-44e5-9380-e24aac5048be",
   "metadata": {},
   "outputs": [
    {
     "data": {
      "text/plain": [
       "'this   is me'"
      ]
     },
     "execution_count": 29,
     "metadata": {},
     "output_type": "execute_result"
    }
   ],
   "source": [
    "ab.strip()"
   ]
  },
  {
   "cell_type": "code",
   "execution_count": null,
   "id": "d118f311-839c-4383-9463-88ac0f0913ff",
   "metadata": {},
   "outputs": [],
   "source": []
  }
 ],
 "metadata": {
  "kernelspec": {
   "display_name": "Python 3 (ipykernel)",
   "language": "python",
   "name": "python3"
  },
  "language_info": {
   "codemirror_mode": {
    "name": "ipython",
    "version": 3
   },
   "file_extension": ".py",
   "mimetype": "text/x-python",
   "name": "python",
   "nbconvert_exporter": "python",
   "pygments_lexer": "ipython3",
   "version": "3.10.8"
  }
 },
 "nbformat": 4,
 "nbformat_minor": 5
}
