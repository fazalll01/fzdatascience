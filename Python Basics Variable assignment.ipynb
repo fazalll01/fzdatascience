{
 "cells": [
  {
   "cell_type": "code",
   "execution_count": 5,
   "id": "94ce7bd3-4efc-4718-a1cf-6ce9bec4e248",
   "metadata": {},
   "outputs": [
    {
     "name": "stdin",
     "output_type": "stream",
     "text": [
      " 323\n"
     ]
    }
   ],
   "source": [
    "length = int(input())"
   ]
  },
  {
   "cell_type": "code",
   "execution_count": 6,
   "id": "fb71944f-c1a6-43eb-b5e2-7c5da8767fd3",
   "metadata": {},
   "outputs": [
    {
     "name": "stdin",
     "output_type": "stream",
     "text": [
      " 3232\n"
     ]
    }
   ],
   "source": [
    "width = int(input())"
   ]
  },
  {
   "cell_type": "code",
   "execution_count": 7,
   "id": "383e49be-bc2d-4298-8ae9-621a2fddeb64",
   "metadata": {},
   "outputs": [],
   "source": [
    "area = length*width"
   ]
  },
  {
   "cell_type": "code",
   "execution_count": 8,
   "id": "0aed6a47-9ade-4031-a091-b3069be43b46",
   "metadata": {},
   "outputs": [
    {
     "name": "stdout",
     "output_type": "stream",
     "text": [
      "1043936\n"
     ]
    }
   ],
   "source": [
    "print(area)\n"
   ]
  }
 ],
 "metadata": {
  "kernelspec": {
   "display_name": "Python 3 (ipykernel)",
   "language": "python",
   "name": "python3"
  },
  "language_info": {
   "codemirror_mode": {
    "name": "ipython",
    "version": 3
   },
   "file_extension": ".py",
   "mimetype": "text/x-python",
   "name": "python",
   "nbconvert_exporter": "python",
   "pygments_lexer": "ipython3",
   "version": "3.10.8"
  }
 },
 "nbformat": 4,
 "nbformat_minor": 5
}
